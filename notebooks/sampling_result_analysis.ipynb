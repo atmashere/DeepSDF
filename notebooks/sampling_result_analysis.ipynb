{
 "cells": [
  {
   "cell_type": "code",
   "execution_count": 30,
   "metadata": {},
   "outputs": [],
   "source": [
    "from pathlib import Path\n",
    "from functional import seq\n",
    "\n",
    "import numpy as np\n",
    "import open3d as o3d"
   ]
  },
  {
   "cell_type": "code",
   "execution_count": 40,
   "metadata": {},
   "outputs": [],
   "source": [
    "dataset = Path(\"/datasets/users/kkania/shapenet/preprocessed/train_object/SdfSamples/\")"
   ]
  },
  {
   "cell_type": "code",
   "execution_count": 41,
   "metadata": {},
   "outputs": [],
   "source": [
    "files = seq(list(dataset.rglob(\"*\"))).filter(lambda path: path.is_file()).to_list()"
   ]
  },
  {
   "cell_type": "code",
   "execution_count": 42,
   "metadata": {},
   "outputs": [
    {
     "data": {
      "text/plain": [
       "[PosixPath('/datasets/users/kkania/shapenet/preprocessed/train_object/SdfSamples/04256520/ac36eabbb3b405d3473f10e6caaeca56/samples.npz'),\n",
       " PosixPath('/datasets/users/kkania/shapenet/preprocessed/train_object/SdfSamples/04256520/167088246175f31c593ebeeedbff73b/samples.npz'),\n",
       " PosixPath('/datasets/users/kkania/shapenet/preprocessed/train_object/SdfSamples/04256520/58156edc9c54973014038d588fd1342f/samples.npz'),\n",
       " PosixPath('/datasets/users/kkania/shapenet/preprocessed/train_object/SdfSamples/04256520/36ab61ce3c894d6514038d588fd1342f/samples.npz'),\n",
       " PosixPath('/datasets/users/kkania/shapenet/preprocessed/train_object/SdfSamples/04256520/b4043ab6723a39f1406316a80ad8bed9/samples.npz'),\n",
       " PosixPath('/datasets/users/kkania/shapenet/preprocessed/train_object/SdfSamples/04256520/5105549b9de890319fb4103277a6b93/samples.npz'),\n",
       " PosixPath('/datasets/users/kkania/shapenet/preprocessed/train_object/SdfSamples/04256520/8188a091928db3cb489883f17c1c79b8/samples.npz'),\n",
       " PosixPath('/datasets/users/kkania/shapenet/preprocessed/train_object/SdfSamples/04256520/ea35493dd0e9039e8d2d730aebe7865d/samples.npz'),\n",
       " PosixPath('/datasets/users/kkania/shapenet/preprocessed/train_object/SdfSamples/04256520/5a7b6de19865d1332c8896155b09445c/samples.npz'),\n",
       " PosixPath('/datasets/users/kkania/shapenet/preprocessed/train_object/SdfSamples/04256520/9357812939117927c0450f087c15de65/samples.npz'),\n",
       " PosixPath('/datasets/users/kkania/shapenet/preprocessed/train_object/SdfSamples/04256520/487635f7daf9ff48b3bd1e430b6587/samples.npz'),\n",
       " PosixPath('/datasets/users/kkania/shapenet/preprocessed/train_object/SdfSamples/04256520/9b1a7c1df1ecc3c0cabc196a7f35f1aa/samples.npz'),\n",
       " PosixPath('/datasets/users/kkania/shapenet/preprocessed/train_object/SdfSamples/04256520/31256698e33ac007dc149927e19d9b07/samples.npz'),\n",
       " PosixPath('/datasets/users/kkania/shapenet/preprocessed/train_object/SdfSamples/04256520/62b02c1b27a5793fef188758bf2e3a30/samples.npz'),\n",
       " PosixPath('/datasets/users/kkania/shapenet/preprocessed/train_object/SdfSamples/04256520/199085218ed6b8f5f33e46f65e635a84/samples.npz'),\n",
       " PosixPath('/datasets/users/kkania/shapenet/preprocessed/train_object/SdfSamples/04256520/d28912450f62b4efa8699b6183baa203/samples.npz'),\n",
       " PosixPath('/datasets/users/kkania/shapenet/preprocessed/train_object/SdfSamples/04256520/e8dfcea40c6cee9b990561fc34164364/samples.npz'),\n",
       " PosixPath('/datasets/users/kkania/shapenet/preprocessed/train_object/SdfSamples/04256520/5cea034b028af000c2843529921f9ad7/samples.npz'),\n",
       " PosixPath('/datasets/users/kkania/shapenet/preprocessed/train_object/SdfSamples/04256520/954efb8e36610d1bab610b0c94236463/samples.npz'),\n",
       " PosixPath('/datasets/users/kkania/shapenet/preprocessed/train_object/SdfSamples/04256520/cc7b690e4d86b471397aad305ec14786/samples.npz'),\n",
       " PosixPath('/datasets/users/kkania/shapenet/preprocessed/train_object/SdfSamples/04256520/5a71471acef6f8153d4d11ac89066d36/samples.npz'),\n",
       " PosixPath('/datasets/users/kkania/shapenet/preprocessed/train_object/SdfSamples/04256520/bfd15618fcd88e104017642dab433250/samples.npz'),\n",
       " PosixPath('/datasets/users/kkania/shapenet/preprocessed/train_object/SdfSamples/04256520/b797650c894719b99fd71c29e8052396/samples.npz'),\n",
       " PosixPath('/datasets/users/kkania/shapenet/preprocessed/train_object/SdfSamples/04256520/e59bd11e144f6ca49aff919557ab16d/samples.npz'),\n",
       " PosixPath('/datasets/users/kkania/shapenet/preprocessed/train_object/SdfSamples/04256520/377fceb1500e6452d9651cd1d591d64d/samples.npz'),\n",
       " PosixPath('/datasets/users/kkania/shapenet/preprocessed/train_object/SdfSamples/04256520/d55d14f87d65faa84ccf9d6d546b307f/samples.npz'),\n",
       " PosixPath('/datasets/users/kkania/shapenet/preprocessed/train_object/SdfSamples/04256520/813597b7f538820ef51f77a6d7299806/samples.npz'),\n",
       " PosixPath('/datasets/users/kkania/shapenet/preprocessed/train_object/SdfSamples/04256520/7d019d0342f8a70f3bec56bff764ba78/samples.npz'),\n",
       " PosixPath('/datasets/users/kkania/shapenet/preprocessed/train_object/SdfSamples/04256520/13de905fd21e501567a4cd2863eb1ca/samples.npz'),\n",
       " PosixPath('/datasets/users/kkania/shapenet/preprocessed/train_object/SdfSamples/04256520/d8de84e7c0f8cbb19473aab1da686220/samples.npz'),\n",
       " PosixPath('/datasets/users/kkania/shapenet/preprocessed/train_object/SdfSamples/04256520/12ae9aa6900536aaf24f0645d0949356/samples.npz'),\n",
       " PosixPath('/datasets/users/kkania/shapenet/preprocessed/train_object/SdfSamples/04256520/d13a2ccdbb7740ea83a0857b7b9398b1/samples.npz'),\n",
       " PosixPath('/datasets/users/kkania/shapenet/preprocessed/train_object/SdfSamples/04256520/4ec9d99e4094a2bd91659e904513cf6c/samples.npz'),\n",
       " PosixPath('/datasets/users/kkania/shapenet/preprocessed/train_object/SdfSamples/04256520/4b9c06e04d329213843ead12644a79bb/samples.npz'),\n",
       " PosixPath('/datasets/users/kkania/shapenet/preprocessed/train_object/SdfSamples/04256520/6f0b36b76bb0946ce642ef37786b5c80/samples.npz'),\n",
       " PosixPath('/datasets/users/kkania/shapenet/preprocessed/train_object/SdfSamples/04256520/4d33fb26aa7baeef88dcbe86402c7c15/samples.npz'),\n",
       " PosixPath('/datasets/users/kkania/shapenet/preprocessed/train_object/SdfSamples/04256520/4cb25759388ec29935fd302efa96f6d6/samples.npz'),\n",
       " PosixPath('/datasets/users/kkania/shapenet/preprocessed/train_object/SdfSamples/04256520/776c31753fadd5593a1c86745128d0e2/samples.npz'),\n",
       " PosixPath('/datasets/users/kkania/shapenet/preprocessed/train_object/SdfSamples/04256520/8ffc9da1ad2dffb3200d50e893131ba/samples.npz'),\n",
       " PosixPath('/datasets/users/kkania/shapenet/preprocessed/train_object/SdfSamples/04256520/4307657b2731fd392c37553db37ec752/samples.npz'),\n",
       " PosixPath('/datasets/users/kkania/shapenet/preprocessed/train_object/SdfSamples/04256520/68a1f95fed336299f51f77a6d7299806/samples.npz'),\n",
       " PosixPath('/datasets/users/kkania/shapenet/preprocessed/train_object/SdfSamples/04256520/64702fcd98b04ad21206ff076758ec85/samples.npz'),\n",
       " PosixPath('/datasets/users/kkania/shapenet/preprocessed/train_object/SdfSamples/04256520/11b544b22dedb59c654ea6737b0d3597/samples.npz'),\n",
       " PosixPath('/datasets/users/kkania/shapenet/preprocessed/train_object/SdfSamples/04256520/f4a0d0169abf306a754ec1f2eef2c6cc/samples.npz'),\n",
       " PosixPath('/datasets/users/kkania/shapenet/preprocessed/train_object/SdfSamples/04256520/824953234ed5ce864d52ab02d0953f29/samples.npz'),\n",
       " PosixPath('/datasets/users/kkania/shapenet/preprocessed/train_object/SdfSamples/04256520/aef57ed7044469ba25e322bb8575a360/samples.npz'),\n",
       " PosixPath('/datasets/users/kkania/shapenet/preprocessed/train_object/SdfSamples/04256520/b913574ffbe7400ce8417aef1b7a422/samples.npz'),\n",
       " PosixPath('/datasets/users/kkania/shapenet/preprocessed/train_object/SdfSamples/04256520/fb74336a6192c4787afee304cce81d6f/samples.npz'),\n",
       " PosixPath('/datasets/users/kkania/shapenet/preprocessed/train_object/SdfSamples/04256520/ee5cfabb3bbf211f4f46734d27ff5aef/samples.npz'),\n",
       " PosixPath('/datasets/users/kkania/shapenet/preprocessed/train_object/SdfSamples/04256520/8affea22019b77a1f1783a44a88d6274/samples.npz'),\n",
       " PosixPath('/datasets/users/kkania/shapenet/preprocessed/train_object/SdfSamples/04256520/681d226acbeaaf08a4ee0fb6a51564c3/samples.npz'),\n",
       " PosixPath('/datasets/users/kkania/shapenet/preprocessed/train_object/SdfSamples/04256520/9d0dd1f2ebfcf0a4cbaaa37255ec05aa/samples.npz'),\n",
       " PosixPath('/datasets/users/kkania/shapenet/preprocessed/train_object/SdfSamples/04256520/9ab0a81e580dc1f4f008d8a3590fb522/samples.npz'),\n",
       " PosixPath('/datasets/users/kkania/shapenet/preprocessed/train_object/SdfSamples/04256520/fadd7d8c94893136e4b1c2efb094888b/samples.npz'),\n",
       " PosixPath('/datasets/users/kkania/shapenet/preprocessed/train_object/SdfSamples/04256520/18e4ebaba8998410ae8c9d3b8c4b9bc3/samples.npz'),\n",
       " PosixPath('/datasets/users/kkania/shapenet/preprocessed/train_object/SdfSamples/04256520/22da5fee0352cf194b3c42e318f3affc/samples.npz'),\n",
       " PosixPath('/datasets/users/kkania/shapenet/preprocessed/train_object/SdfSamples/04256520/7dfdfe28e3d25a0d19fb4103277a6b93/samples.npz'),\n",
       " PosixPath('/datasets/users/kkania/shapenet/preprocessed/train_object/SdfSamples/04256520/354c37c168778a0bd4830313df3656b/samples.npz'),\n",
       " PosixPath('/datasets/users/kkania/shapenet/preprocessed/train_object/SdfSamples/04256520/9df9d1c02e9013e7ef10d8e00e9d279c/samples.npz'),\n",
       " PosixPath('/datasets/users/kkania/shapenet/preprocessed/train_object/SdfSamples/04256520/babdd63b18d73a196625bd63cef94df1/samples.npz'),\n",
       " PosixPath('/datasets/users/kkania/shapenet/preprocessed/train_object/SdfSamples/04256520/82460a80f6e9cd8bb0851ce87f32a267/samples.npz'),\n",
       " PosixPath('/datasets/users/kkania/shapenet/preprocessed/train_object/SdfSamples/04256520/218a7b0cfc87312925a3aaf903a41c90/samples.npz'),\n",
       " PosixPath('/datasets/users/kkania/shapenet/preprocessed/train_object/SdfSamples/04256520/1d19f508f104e881a239479de51795b2/samples.npz'),\n",
       " PosixPath('/datasets/users/kkania/shapenet/preprocessed/train_object/SdfSamples/04256520/36d43bd7a4f90e69e2ca61e91f2755b7/samples.npz'),\n",
       " PosixPath('/datasets/users/kkania/shapenet/preprocessed/train_object/SdfSamples/04256520/f4391a20638d415e76e9713f57a5fcb6/samples.npz'),\n",
       " PosixPath('/datasets/users/kkania/shapenet/preprocessed/train_object/SdfSamples/04256520/debcadc4067158674ab1b242068f86fb/samples.npz'),\n",
       " PosixPath('/datasets/users/kkania/shapenet/preprocessed/train_object/SdfSamples/04256520/2ae32451bd6b947e593ebeeedbff73b/samples.npz'),\n",
       " PosixPath('/datasets/users/kkania/shapenet/preprocessed/train_object/SdfSamples/04256520/d4704c12862c808b593ebeeedbff73b/samples.npz'),\n",
       " PosixPath('/datasets/users/kkania/shapenet/preprocessed/train_object/SdfSamples/04256520/c4e36c36679f27887586d00bc0d54b2e/samples.npz'),\n",
       " PosixPath('/datasets/users/kkania/shapenet/preprocessed/train_object/SdfSamples/04256520/7c4bf66c71ca90b5c2c449c0c0579ec3/samples.npz'),\n",
       " PosixPath('/datasets/users/kkania/shapenet/preprocessed/train_object/SdfSamples/04256520/fc3350236b25f198f2b841e334abcf20/samples.npz'),\n",
       " PosixPath('/datasets/users/kkania/shapenet/preprocessed/train_object/SdfSamples/04256520/89f4fca1f562f9103264e1c4b42b3e14/samples.npz'),\n",
       " PosixPath('/datasets/users/kkania/shapenet/preprocessed/train_object/SdfSamples/04256520/81afa90f6229e7b456cbf78e1e89022/samples.npz'),\n",
       " PosixPath('/datasets/users/kkania/shapenet/preprocessed/train_object/SdfSamples/04256520/5ec9b56623d25cf1e7d9f0fed41b005f/samples.npz'),\n",
       " PosixPath('/datasets/users/kkania/shapenet/preprocessed/train_object/SdfSamples/04256520/b048119e0f0828d5758f6def7204bd6b/samples.npz'),\n",
       " PosixPath('/datasets/users/kkania/shapenet/preprocessed/train_object/SdfSamples/04256520/fd7aa76019f0149b6626d14151ce40bf/samples.npz'),\n",
       " PosixPath('/datasets/users/kkania/shapenet/preprocessed/train_object/SdfSamples/04256520/777aa4f75debc4e8acbda81da5062d85/samples.npz'),\n",
       " PosixPath('/datasets/users/kkania/shapenet/preprocessed/train_object/SdfSamples/04256520/62852049a9f049cca67a896eea47bc81/samples.npz'),\n",
       " PosixPath('/datasets/users/kkania/shapenet/preprocessed/train_object/SdfSamples/04256520/7525a8d905a7aef4b3c42e318f3affc/samples.npz'),\n",
       " PosixPath('/datasets/users/kkania/shapenet/preprocessed/train_object/SdfSamples/04256520/2715a63f41552d6c19fb4103277a6b93/samples.npz'),\n",
       " PosixPath('/datasets/users/kkania/shapenet/preprocessed/train_object/SdfSamples/04256520/32cde5adb86d540a2eb3768aa5c5fa1c/samples.npz'),\n",
       " PosixPath('/datasets/users/kkania/shapenet/preprocessed/train_object/SdfSamples/04256520/50766e42adb211675e0d6e917505f52f/samples.npz'),\n",
       " PosixPath('/datasets/users/kkania/shapenet/preprocessed/train_object/SdfSamples/04256520/6131018e5caaedb87980e3c69ea07675/samples.npz'),\n",
       " PosixPath('/datasets/users/kkania/shapenet/preprocessed/train_object/SdfSamples/04256520/aadc03f6499b5ec5b60747861a92b009/samples.npz'),\n",
       " PosixPath('/datasets/users/kkania/shapenet/preprocessed/train_object/SdfSamples/04256520/f0e243acfc5605bdcadbe66b40c67b2a/samples.npz'),\n",
       " PosixPath('/datasets/users/kkania/shapenet/preprocessed/train_object/SdfSamples/04256520/530fc7ae6a1d6a40e830a5cca365799a/samples.npz'),\n",
       " PosixPath('/datasets/users/kkania/shapenet/preprocessed/train_object/SdfSamples/04256520/dc35836a8c5bbdc919fb4103277a6b93/samples.npz'),\n",
       " PosixPath('/datasets/users/kkania/shapenet/preprocessed/train_object/SdfSamples/04256520/fe29b89c392e1bb39a2d92ec05f8de08/samples.npz'),\n",
       " PosixPath('/datasets/users/kkania/shapenet/preprocessed/train_object/SdfSamples/04256520/d21b63623023b40a593ebeeedbff73b/samples.npz'),\n",
       " PosixPath('/datasets/users/kkania/shapenet/preprocessed/train_object/SdfSamples/04256520/7e832bc481a3335614038d588fd1342f/samples.npz'),\n",
       " PosixPath('/datasets/users/kkania/shapenet/preprocessed/train_object/SdfSamples/04256520/8078da16e565846181ae47ffdeb90d54/samples.npz'),\n",
       " PosixPath('/datasets/users/kkania/shapenet/preprocessed/train_object/SdfSamples/04256520/3dc8e7cd623f5aeb65498947b67a3f6/samples.npz'),\n",
       " PosixPath('/datasets/users/kkania/shapenet/preprocessed/train_object/SdfSamples/04256520/5b06dcaf32f92e7eb3878cedd8c8fe6c/samples.npz'),\n",
       " PosixPath('/datasets/users/kkania/shapenet/preprocessed/train_object/SdfSamples/04256520/33db94c3b6edf1efc3bd24f986301745/samples.npz'),\n",
       " PosixPath('/datasets/users/kkania/shapenet/preprocessed/train_object/SdfSamples/04256520/ce049a259cc2e624d5446ca68a7e06a3/samples.npz'),\n",
       " PosixPath('/datasets/users/kkania/shapenet/preprocessed/train_object/SdfSamples/04256520/559019119818194931df860464c5f16c/samples.npz'),\n",
       " PosixPath('/datasets/users/kkania/shapenet/preprocessed/train_object/SdfSamples/04256520/74490c45305da48a2b3e9b6eb52d35df/samples.npz'),\n",
       " PosixPath('/datasets/users/kkania/shapenet/preprocessed/train_object/SdfSamples/04256520/96de367b3365416ac580fdeb5460f6d6/samples.npz'),\n",
       " PosixPath('/datasets/users/kkania/shapenet/preprocessed/train_object/SdfSamples/04256520/a8b0e2a953f3ab6a68b3e52c71552a50/samples.npz'),\n",
       " PosixPath('/datasets/users/kkania/shapenet/preprocessed/train_object/SdfSamples/04256520/52f6fbe3a36a4d1f19fb4103277a6b93/samples.npz'),\n",
       " PosixPath('/datasets/users/kkania/shapenet/preprocessed/train_object/SdfSamples/04256520/d3b0fe62f115f0588bd90ebf95555835/samples.npz'),\n",
       " PosixPath('/datasets/users/kkania/shapenet/preprocessed/train_object/SdfSamples/04256520/66c8df461f312684d329896bbf26eda9/samples.npz'),\n",
       " PosixPath('/datasets/users/kkania/shapenet/preprocessed/train_object/SdfSamples/04256520/69e8d0b7366591dc578d107c71db28ac/samples.npz'),\n",
       " PosixPath('/datasets/users/kkania/shapenet/preprocessed/train_object/SdfSamples/04256520/9c0ed8415a0a9e5c49b1e464b71de577/samples.npz'),\n",
       " PosixPath('/datasets/users/kkania/shapenet/preprocessed/train_object/SdfSamples/04256520/4735568bd188aefcb8e1b99345a5afd4/samples.npz'),\n",
       " PosixPath('/datasets/users/kkania/shapenet/preprocessed/train_object/SdfSamples/04256520/2f6f16e5a1d36f3fefc579970fcfc006/samples.npz'),\n",
       " PosixPath('/datasets/users/kkania/shapenet/preprocessed/train_object/SdfSamples/04256520/8458d6939967ac1bbc7a6acbd8f058b/samples.npz'),\n",
       " PosixPath('/datasets/users/kkania/shapenet/preprocessed/train_object/SdfSamples/04256520/719eb32ac85c77ac4e7bb85618505650/samples.npz'),\n",
       " PosixPath('/datasets/users/kkania/shapenet/preprocessed/train_object/SdfSamples/04256520/11f47772cbe2a2d0a5f9d52c12457194/samples.npz'),\n",
       " PosixPath('/datasets/users/kkania/shapenet/preprocessed/train_object/SdfSamples/04256520/23eb95ad8124b45cc27ecf743c1aa320/samples.npz'),\n",
       " PosixPath('/datasets/users/kkania/shapenet/preprocessed/train_object/SdfSamples/04256520/4a01490054b15c90ea5adc188e5a2fc0/samples.npz'),\n",
       " PosixPath('/datasets/users/kkania/shapenet/preprocessed/train_object/SdfSamples/04256520/458bfa76a934921f4494e96d71433541/samples.npz'),\n",
       " PosixPath('/datasets/users/kkania/shapenet/preprocessed/train_object/SdfSamples/04256520/e86d2ddb1e38d2e082db9fca4b68095/samples.npz'),\n",
       " PosixPath('/datasets/users/kkania/shapenet/preprocessed/train_object/SdfSamples/04256520/2de1b39fe6dd601f1e03b4418ed1a4f3/samples.npz'),\n",
       " PosixPath('/datasets/users/kkania/shapenet/preprocessed/train_object/SdfSamples/04256520/cd2a6bf7effd529de96ac0c4e1fb9b1a/samples.npz'),\n",
       " PosixPath('/datasets/users/kkania/shapenet/preprocessed/train_object/SdfSamples/04256520/ea295fb4335e3499f51fa0238791f5dc/samples.npz'),\n",
       " PosixPath('/datasets/users/kkania/shapenet/preprocessed/train_object/SdfSamples/04256520/a3eef12c108186997b9a616d4541ada8/samples.npz'),\n",
       " PosixPath('/datasets/users/kkania/shapenet/preprocessed/train_object/SdfSamples/04256520/ba5cc31429d4c97479c67f086ffdd34/samples.npz'),\n",
       " PosixPath('/datasets/users/kkania/shapenet/preprocessed/train_object/SdfSamples/04256520/64dc2fa7007421f9cf46315936cd9301/samples.npz'),\n",
       " PosixPath('/datasets/users/kkania/shapenet/preprocessed/train_object/SdfSamples/04256520/453d56b5906989fff29666f384be6c43/samples.npz'),\n",
       " PosixPath('/datasets/users/kkania/shapenet/preprocessed/train_object/SdfSamples/04256520/46f1ec4173d32c0bf1af69e9778c153f/samples.npz'),\n",
       " PosixPath('/datasets/users/kkania/shapenet/preprocessed/train_object/SdfSamples/04256520/77f5e753014c5b69b4b4d657a4935834/samples.npz'),\n",
       " PosixPath('/datasets/users/kkania/shapenet/preprocessed/train_object/SdfSamples/04256520/18a6381f8a0dffc876828214888cb11e/samples.npz'),\n",
       " PosixPath('/datasets/users/kkania/shapenet/preprocessed/train_object/SdfSamples/04256520/389751629226a005cbde89e0c48a01bf/samples.npz'),\n",
       " PosixPath('/datasets/users/kkania/shapenet/preprocessed/train_object/SdfSamples/04256520/a73fc5b447cab6493ca57f5648ff1b0d/samples.npz'),\n",
       " PosixPath('/datasets/users/kkania/shapenet/preprocessed/train_object/SdfSamples/04256520/7fd704652332a45b2ce025aebfea84a4/samples.npz'),\n",
       " PosixPath('/datasets/users/kkania/shapenet/preprocessed/train_object/SdfSamples/04256520/ce46ea86a7f7a77b3adc3470b30138f3/samples.npz'),\n",
       " PosixPath('/datasets/users/kkania/shapenet/preprocessed/train_object/SdfSamples/04256520/716eba8ec4825ecb19fb4103277a6b93/samples.npz'),\n",
       " PosixPath('/datasets/users/kkania/shapenet/preprocessed/train_object/SdfSamples/04256520/423d4e5cadc6dbdaeaf288f952624966/samples.npz'),\n",
       " PosixPath('/datasets/users/kkania/shapenet/preprocessed/train_object/SdfSamples/04256520/7d804eb69e0eedba450447b3239e17e9/samples.npz'),\n",
       " PosixPath('/datasets/users/kkania/shapenet/preprocessed/train_object/SdfSamples/04256520/13a8c6129a8e80379904131b50e062f6/samples.npz'),\n",
       " PosixPath('/datasets/users/kkania/shapenet/preprocessed/train_object/SdfSamples/04256520/fdb3ab843f2a244eb9b4a0bf4166f120/samples.npz'),\n",
       " PosixPath('/datasets/users/kkania/shapenet/preprocessed/train_object/SdfSamples/04256520/8aa7651cbe3651d64af957103f4767ac/samples.npz'),\n",
       " PosixPath('/datasets/users/kkania/shapenet/preprocessed/train_object/SdfSamples/04256520/f05f6b3e7c0afdb352fc7e973ba7787/samples.npz'),\n",
       " PosixPath('/datasets/users/kkania/shapenet/preprocessed/train_object/SdfSamples/04256520/c53ec0141303c1eb4508add1163b4513/samples.npz'),\n",
       " PosixPath('/datasets/users/kkania/shapenet/preprocessed/train_object/SdfSamples/04256520/330d44833e1b4b168b38796afe7ee552/samples.npz'),\n",
       " PosixPath('/datasets/users/kkania/shapenet/preprocessed/train_object/SdfSamples/04256520/f8a6cb92786bbafce8f8c11a24c52ebb/samples.npz'),\n",
       " PosixPath('/datasets/users/kkania/shapenet/preprocessed/train_object/SdfSamples/04256520/ce3055223e53a46e67d4ef1ee6cc8170/samples.npz'),\n",
       " PosixPath('/datasets/users/kkania/shapenet/preprocessed/train_object/SdfSamples/04256520/2b69e899da0c15cfb40f0ac0fb9a650d/samples.npz'),\n",
       " PosixPath('/datasets/users/kkania/shapenet/preprocessed/train_object/SdfSamples/04256520/4076958da964edb95ff61a3a2a0e2484/samples.npz'),\n",
       " PosixPath('/datasets/users/kkania/shapenet/preprocessed/train_object/SdfSamples/04256520/aeff3da4a02a22b07b0278d6b5ba1920/samples.npz'),\n",
       " PosixPath('/datasets/users/kkania/shapenet/preprocessed/train_object/SdfSamples/04256520/de4d86efa8bdc67684ad2abb799c0f8d/samples.npz'),\n",
       " PosixPath('/datasets/users/kkania/shapenet/preprocessed/train_object/SdfSamples/04256520/b4c5addeacfce8242165c54dcecaacb4/samples.npz'),\n",
       " PosixPath('/datasets/users/kkania/shapenet/preprocessed/train_object/SdfSamples/04256520/7833d94635b755793adc3470b30138f3/samples.npz'),\n",
       " PosixPath('/datasets/users/kkania/shapenet/preprocessed/train_object/SdfSamples/04256520/3140b8db45212ea0d9b53420a5458c53/samples.npz'),\n",
       " PosixPath('/datasets/users/kkania/shapenet/preprocessed/train_object/SdfSamples/04256520/ac96d2fa0e2052a790a9ce3e4b15521e/samples.npz'),\n",
       " PosixPath('/datasets/users/kkania/shapenet/preprocessed/train_object/SdfSamples/04256520/b543411f1fce1f30e6fe3612af521500/samples.npz'),\n",
       " PosixPath('/datasets/users/kkania/shapenet/preprocessed/train_object/SdfSamples/04256520/58d87762038f551bf2977dcfb5a9b56a/samples.npz'),\n",
       " PosixPath('/datasets/users/kkania/shapenet/preprocessed/train_object/SdfSamples/04256520/54ee1ef79b340108e5b4d50aea96bfd9/samples.npz'),\n",
       " PosixPath('/datasets/users/kkania/shapenet/preprocessed/train_object/SdfSamples/04256520/a98956209f6723a2dedecd2df7bf25e3/samples.npz'),\n",
       " PosixPath('/datasets/users/kkania/shapenet/preprocessed/train_object/SdfSamples/04256520/896e8970c81b33d068b6f94bb42f6cd5/samples.npz'),\n",
       " PosixPath('/datasets/users/kkania/shapenet/preprocessed/train_object/SdfSamples/04256520/8e6312c23b6ac12f956c23e7ddc28c00/samples.npz'),\n",
       " PosixPath('/datasets/users/kkania/shapenet/preprocessed/train_object/SdfSamples/04256520/1731d53ab8b8973973800789ccff9705/samples.npz'),\n",
       " PosixPath('/datasets/users/kkania/shapenet/preprocessed/train_object/SdfSamples/04256520/b435dc75dfcee77c4b3c42e318f3affc/samples.npz'),\n",
       " PosixPath('/datasets/users/kkania/shapenet/preprocessed/train_object/SdfSamples/04256520/3a053bc6997155674ee2933c1153f63b/samples.npz'),\n",
       " PosixPath('/datasets/users/kkania/shapenet/preprocessed/train_object/SdfSamples/04256520/200324d0bafb1c2e19fb4103277a6b93/samples.npz'),\n",
       " PosixPath('/datasets/users/kkania/shapenet/preprocessed/train_object/SdfSamples/04256520/9aa3c3c03d111640490ad276cd2af3a4/samples.npz'),\n",
       " PosixPath('/datasets/users/kkania/shapenet/preprocessed/train_object/SdfSamples/04256520/bd3cb48163e43810f29b3e56ea45251a/samples.npz'),\n",
       " PosixPath('/datasets/users/kkania/shapenet/preprocessed/train_object/SdfSamples/04256520/7b3bab9058f7de33fab6e40cce6926d7/samples.npz'),\n",
       " PosixPath('/datasets/users/kkania/shapenet/preprocessed/train_object/SdfSamples/04256520/f1e174f8ac0f5254490ad276cd2af3a4/samples.npz'),\n",
       " PosixPath('/datasets/users/kkania/shapenet/preprocessed/train_object/SdfSamples/04256520/7104877ee2b4f68516cfe1233e767967/samples.npz'),\n",
       " PosixPath('/datasets/users/kkania/shapenet/preprocessed/train_object/SdfSamples/04256520/ccb08f869edde5e6d8adf1ca87495d41/samples.npz'),\n",
       " PosixPath('/datasets/users/kkania/shapenet/preprocessed/train_object/SdfSamples/04256520/9f6d960c57515fb491264d3b5d25d83f/samples.npz'),\n",
       " PosixPath('/datasets/users/kkania/shapenet/preprocessed/train_object/SdfSamples/04256520/79745b6df9447d3419abd93be2967664/samples.npz')]"
      ]
     },
     "execution_count": 42,
     "metadata": {},
     "output_type": "execute_result"
    }
   ],
   "source": [
    "files"
   ]
  },
  {
   "cell_type": "code",
   "execution_count": 43,
   "metadata": {},
   "outputs": [
    {
     "data": {
      "text/plain": [
       "PosixPath('/datasets/users/kkania/shapenet/preprocessed/train_object/SdfSamples/04256520/9f6d960c57515fb491264d3b5d25d83f/samples.npz')"
      ]
     },
     "execution_count": 43,
     "metadata": {},
     "output_type": "execute_result"
    }
   ],
   "source": [
    "files[-2]"
   ]
  },
  {
   "cell_type": "code",
   "execution_count": 9,
   "metadata": {},
   "outputs": [],
   "source": [
    "samples = np.load(files[0])"
   ]
  },
  {
   "cell_type": "code",
   "execution_count": 14,
   "metadata": {},
   "outputs": [
    {
     "data": {
      "text/plain": [
       "((249067, 4), (241536, 4))"
      ]
     },
     "execution_count": 14,
     "metadata": {},
     "output_type": "execute_result"
    }
   ],
   "source": [
    "samples[\"pos\"].shape, samples[\"neg\"].shape"
   ]
  },
  {
   "cell_type": "code",
   "execution_count": 15,
   "metadata": {},
   "outputs": [
    {
     "data": {
      "text/plain": [
       "array([[ 0.32994607, -0.01966162, -0.38804138,  0.03740387],\n",
       "       [-0.37397587, -0.2832724 , -0.06540862,  0.02501526],\n",
       "       [ 0.15270452,  0.28876945,  0.36204797,  0.04427298],\n",
       "       [ 0.22573109,  0.27554646,  0.33222926,  0.01619488],\n",
       "       [-0.709331  , -0.26739654,  0.00600417,  0.00913942],\n",
       "       [ 0.09273259, -0.00559958,  0.4166172 ,  0.06854676],\n",
       "       [-0.8533209 , -0.29967594, -0.24152425,  0.01523894],\n",
       "       [ 0.2720539 ,  0.31682673,  0.3122607 ,  0.01886424],\n",
       "       [ 0.25121537,  0.30502856,  0.33135948,  0.01190151],\n",
       "       [-0.40679088,  0.17110693, -0.1585407 ,  0.10180417]],\n",
       "      dtype=float32)"
      ]
     },
     "execution_count": 15,
     "metadata": {},
     "output_type": "execute_result"
    }
   ],
   "source": [
    "samples[\"pos\"][:10]"
   ]
  },
  {
   "cell_type": "code",
   "execution_count": 18,
   "metadata": {},
   "outputs": [],
   "source": [
    "coordinates = samples[\"pos\"][:, :3]"
   ]
  },
  {
   "cell_type": "code",
   "execution_count": 32,
   "metadata": {},
   "outputs": [],
   "source": [
    "pcd = o3d.geometry.PointCloud()\n",
    "pcd.points = o3d.utility.Vector3dVector(coordinates)\n",
    "\n",
    "o3d.PointCloud = o3d.geometry.PointCloud"
   ]
  },
  {
   "cell_type": "code",
   "execution_count": 34,
   "metadata": {},
   "outputs": [
    {
     "data": {
      "application/vnd.jupyter.widget-view+json": {
       "model_id": "9f0ef5ff12194381a8872dcca99a7d43",
       "version_major": 2,
       "version_minor": 0
      },
      "text/plain": [
       "JVisualizer with 1 geometries"
      ]
     },
     "metadata": {},
     "output_type": "display_data"
    }
   ],
   "source": [
    "visualizer = o3d.JVisualizer()\n",
    "visualizer.add_geometry(pcd)\n",
    "visualizer.show()"
   ]
  },
  {
   "cell_type": "code",
   "execution_count": null,
   "metadata": {},
   "outputs": [],
   "source": []
  }
 ],
 "metadata": {
  "kernelspec": {
   "display_name": "Python 3",
   "language": "python",
   "name": "python3"
  },
  "language_info": {
   "codemirror_mode": {
    "name": "ipython",
    "version": 3
   },
   "file_extension": ".py",
   "mimetype": "text/x-python",
   "name": "python",
   "nbconvert_exporter": "python",
   "pygments_lexer": "ipython3",
   "version": "3.6.8"
  }
 },
 "nbformat": 4,
 "nbformat_minor": 2
}
